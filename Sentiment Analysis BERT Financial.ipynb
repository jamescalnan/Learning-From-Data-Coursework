{
 "cells": [
  {
   "cell_type": "code",
   "execution_count": 12,
   "metadata": {},
   "outputs": [
    {
     "name": "stdout",
     "output_type": "stream",
     "text": [
      "Requirement already satisfied: transformers==4.24.0 in /home/calnan/.local/lib/python3.8/site-packages (4.24.0)\n",
      "Requirement already satisfied: tokenizers!=0.11.3,<0.14,>=0.11.1 in /home/calnan/.local/lib/python3.8/site-packages (from transformers==4.24.0) (0.13.2)\n",
      "Requirement already satisfied: regex!=2019.12.17 in /home/calnan/.local/lib/python3.8/site-packages (from transformers==4.24.0) (2022.10.31)\n",
      "Requirement already satisfied: tqdm>=4.27 in /home/calnan/.local/lib/python3.8/site-packages (from transformers==4.24.0) (4.64.1)\n",
      "Requirement already satisfied: filelock in /home/calnan/.local/lib/python3.8/site-packages (from transformers==4.24.0) (3.9.0)\n",
      "Requirement already satisfied: numpy>=1.17 in /home/calnan/.local/lib/python3.8/site-packages (from transformers==4.24.0) (1.24.2)\n",
      "Requirement already satisfied: packaging>=20.0 in /home/calnan/.local/lib/python3.8/site-packages (from transformers==4.24.0) (23.0)\n",
      "Requirement already satisfied: pyyaml>=5.1 in /usr/lib/python3/dist-packages (from transformers==4.24.0) (5.3.1)\n",
      "Requirement already satisfied: requests in /usr/lib/python3/dist-packages (from transformers==4.24.0) (2.22.0)\n",
      "Requirement already satisfied: huggingface-hub<1.0,>=0.10.0 in /home/calnan/.local/lib/python3.8/site-packages (from transformers==4.24.0) (0.19.0)\n",
      "Requirement already satisfied: fsspec>=2023.5.0 in /home/calnan/.local/lib/python3.8/site-packages (from huggingface-hub<1.0,>=0.10.0->transformers==4.24.0) (2023.10.0)\n",
      "Requirement already satisfied: typing-extensions>=3.7.4.3 in /home/calnan/.local/lib/python3.8/site-packages (from huggingface-hub<1.0,>=0.10.0->transformers==4.24.0) (4.5.0)\n",
      "Requirement already satisfied: simpletransformers==0.63.11 in /home/calnan/.local/lib/python3.8/site-packages (0.63.11)\n",
      "Requirement already satisfied: sentencepiece in /home/calnan/.local/lib/python3.8/site-packages (from simpletransformers==0.63.11) (0.1.99)\n",
      "Requirement already satisfied: streamlit in /home/calnan/.local/lib/python3.8/site-packages (from simpletransformers==0.63.11) (1.28.1)\n",
      "Requirement already satisfied: wandb>=0.10.32 in /home/calnan/.local/lib/python3.8/site-packages (from simpletransformers==0.63.11) (0.16.0)\n",
      "Requirement already satisfied: requests in /usr/lib/python3/dist-packages (from simpletransformers==0.63.11) (2.22.0)\n",
      "Requirement already satisfied: transformers>=4.6.0 in /home/calnan/.local/lib/python3.8/site-packages (from simpletransformers==0.63.11) (4.24.0)\n",
      "Requirement already satisfied: numpy in /home/calnan/.local/lib/python3.8/site-packages (from simpletransformers==0.63.11) (1.24.2)\n",
      "Requirement already satisfied: tensorboard in /home/calnan/.local/lib/python3.8/site-packages (from simpletransformers==0.63.11) (2.13.0)\n",
      "Requirement already satisfied: regex in /home/calnan/.local/lib/python3.8/site-packages (from simpletransformers==0.63.11) (2022.10.31)\n",
      "Requirement already satisfied: tqdm>=4.47.0 in /home/calnan/.local/lib/python3.8/site-packages (from simpletransformers==0.63.11) (4.64.1)\n",
      "Requirement already satisfied: pandas in /home/calnan/.local/lib/python3.8/site-packages (from simpletransformers==0.63.11) (2.0.3)\n",
      "Requirement already satisfied: seqeval in /home/calnan/.local/lib/python3.8/site-packages (from simpletransformers==0.63.11) (1.2.2)\n",
      "Requirement already satisfied: scikit-learn in /home/calnan/.local/lib/python3.8/site-packages (from simpletransformers==0.63.11) (1.3.0)\n",
      "Requirement already satisfied: tokenizers in /home/calnan/.local/lib/python3.8/site-packages (from simpletransformers==0.63.11) (0.13.2)\n",
      "Requirement already satisfied: datasets in /home/calnan/.local/lib/python3.8/site-packages (from simpletransformers==0.63.11) (2.14.6)\n",
      "Requirement already satisfied: scipy in /home/calnan/.local/lib/python3.8/site-packages (from simpletransformers==0.63.11) (1.10.1)\n",
      "Requirement already satisfied: altair<6,>=4.0 in /home/calnan/.local/lib/python3.8/site-packages (from streamlit->simpletransformers==0.63.11) (5.1.2)\n",
      "Requirement already satisfied: packaging<24,>=16.8 in /home/calnan/.local/lib/python3.8/site-packages (from streamlit->simpletransformers==0.63.11) (23.0)\n",
      "Requirement already satisfied: click<9,>=7.0 in /home/calnan/.local/lib/python3.8/site-packages (from streamlit->simpletransformers==0.63.11) (8.1.7)\n",
      "Requirement already satisfied: importlib-metadata<7,>=1.4 in /home/calnan/.local/lib/python3.8/site-packages (from streamlit->simpletransformers==0.63.11) (6.8.0)\n",
      "Requirement already satisfied: tzlocal<6,>=1.1 in /home/calnan/.local/lib/python3.8/site-packages (from streamlit->simpletransformers==0.63.11) (5.2)\n",
      "Requirement already satisfied: pydeck<1,>=0.8.0b4 in /home/calnan/.local/lib/python3.8/site-packages (from streamlit->simpletransformers==0.63.11) (0.8.1b0)\n",
      "Requirement already satisfied: rich<14,>=10.14.0 in /home/calnan/.local/lib/python3.8/site-packages (from streamlit->simpletransformers==0.63.11) (13.3.1)\n",
      "Requirement already satisfied: toml<2,>=0.10.1 in /home/calnan/.local/lib/python3.8/site-packages (from streamlit->simpletransformers==0.63.11) (0.10.2)\n",
      "Requirement already satisfied: validators<1,>=0.2 in /home/calnan/.local/lib/python3.8/site-packages (from streamlit->simpletransformers==0.63.11) (0.22.0)\n",
      "Requirement already satisfied: typing-extensions<5,>=4.3.0 in /home/calnan/.local/lib/python3.8/site-packages (from streamlit->simpletransformers==0.63.11) (4.5.0)\n",
      "Requirement already satisfied: tornado<7,>=6.0.3 in /home/calnan/.local/lib/python3.8/site-packages (from streamlit->simpletransformers==0.63.11) (6.3.3)\n",
      "Requirement already satisfied: watchdog>=2.1.5; platform_system != \"Darwin\" in /home/calnan/.local/lib/python3.8/site-packages (from streamlit->simpletransformers==0.63.11) (3.0.0)\n",
      "Requirement already satisfied: tenacity<9,>=8.1.0 in /home/calnan/.local/lib/python3.8/site-packages (from streamlit->simpletransformers==0.63.11) (8.2.3)\n",
      "Requirement already satisfied: python-dateutil<3,>=2.7.3 in /home/calnan/.local/lib/python3.8/site-packages (from streamlit->simpletransformers==0.63.11) (2.8.2)\n",
      "Requirement already satisfied: blinker<2,>=1.0.0 in /usr/lib/python3/dist-packages (from streamlit->simpletransformers==0.63.11) (1.4)\n",
      "Requirement already satisfied: gitpython!=3.1.19,<4,>=3.0.7 in /home/calnan/.local/lib/python3.8/site-packages (from streamlit->simpletransformers==0.63.11) (3.1.40)\n",
      "Requirement already satisfied: pillow<11,>=7.1.0 in /home/calnan/.local/lib/python3.8/site-packages (from streamlit->simpletransformers==0.63.11) (10.1.0)\n",
      "Requirement already satisfied: pyarrow>=6.0 in /home/calnan/.local/lib/python3.8/site-packages (from streamlit->simpletransformers==0.63.11) (14.0.1)\n",
      "Requirement already satisfied: protobuf<5,>=3.20 in /home/calnan/.local/lib/python3.8/site-packages (from streamlit->simpletransformers==0.63.11) (4.24.1)\n",
      "Requirement already satisfied: cachetools<6,>=4.0 in /home/calnan/.local/lib/python3.8/site-packages (from streamlit->simpletransformers==0.63.11) (5.3.1)\n",
      "Requirement already satisfied: setproctitle in /usr/lib/python3/dist-packages (from wandb>=0.10.32->simpletransformers==0.63.11) (1.1.10)\n",
      "Requirement already satisfied: setuptools in /usr/lib/python3/dist-packages (from wandb>=0.10.32->simpletransformers==0.63.11) (45.2.0)\n",
      "Requirement already satisfied: appdirs>=1.4.3 in /home/calnan/.local/lib/python3.8/site-packages (from wandb>=0.10.32->simpletransformers==0.63.11) (1.4.4)\n",
      "Requirement already satisfied: psutil>=5.0.0 in /home/calnan/.local/lib/python3.8/site-packages (from wandb>=0.10.32->simpletransformers==0.63.11) (5.8.0)\n",
      "Requirement already satisfied: PyYAML in /usr/lib/python3/dist-packages (from wandb>=0.10.32->simpletransformers==0.63.11) (5.3.1)\n",
      "Requirement already satisfied: docker-pycreds>=0.4.0 in /home/calnan/.local/lib/python3.8/site-packages (from wandb>=0.10.32->simpletransformers==0.63.11) (0.4.0)\n",
      "Requirement already satisfied: sentry-sdk>=1.0.0 in /home/calnan/.local/lib/python3.8/site-packages (from wandb>=0.10.32->simpletransformers==0.63.11) (1.34.0)\n",
      "Requirement already satisfied: huggingface-hub<1.0,>=0.10.0 in /home/calnan/.local/lib/python3.8/site-packages (from transformers>=4.6.0->simpletransformers==0.63.11) (0.19.0)\n",
      "Requirement already satisfied: filelock in /home/calnan/.local/lib/python3.8/site-packages (from transformers>=4.6.0->simpletransformers==0.63.11) (3.9.0)\n",
      "Requirement already satisfied: grpcio>=1.48.2 in /home/calnan/.local/lib/python3.8/site-packages (from tensorboard->simpletransformers==0.63.11) (1.57.0)\n",
      "Requirement already satisfied: markdown>=2.6.8 in /home/calnan/.local/lib/python3.8/site-packages (from tensorboard->simpletransformers==0.63.11) (3.4.4)\n",
      "Requirement already satisfied: werkzeug>=1.0.1 in /home/calnan/.local/lib/python3.8/site-packages (from tensorboard->simpletransformers==0.63.11) (2.3.7)\n",
      "Requirement already satisfied: tensorboard-data-server<0.8.0,>=0.7.0 in /home/calnan/.local/lib/python3.8/site-packages (from tensorboard->simpletransformers==0.63.11) (0.7.1)\n",
      "Requirement already satisfied: google-auth-oauthlib<1.1,>=0.5 in /home/calnan/.local/lib/python3.8/site-packages (from tensorboard->simpletransformers==0.63.11) (1.0.0)\n",
      "Requirement already satisfied: wheel>=0.26 in /usr/lib/python3/dist-packages (from tensorboard->simpletransformers==0.63.11) (0.34.2)\n",
      "Requirement already satisfied: google-auth<3,>=1.6.3 in /home/calnan/.local/lib/python3.8/site-packages (from tensorboard->simpletransformers==0.63.11) (2.22.0)\n",
      "Requirement already satisfied: absl-py>=0.4 in /home/calnan/.local/lib/python3.8/site-packages (from tensorboard->simpletransformers==0.63.11) (1.4.0)\n",
      "Requirement already satisfied: pytz>=2020.1 in /home/calnan/.local/lib/python3.8/site-packages (from pandas->simpletransformers==0.63.11) (2023.3)\n",
      "Requirement already satisfied: tzdata>=2022.1 in /home/calnan/.local/lib/python3.8/site-packages (from pandas->simpletransformers==0.63.11) (2023.3)\n",
      "Requirement already satisfied: threadpoolctl>=2.0.0 in /home/calnan/.local/lib/python3.8/site-packages (from scikit-learn->simpletransformers==0.63.11) (3.2.0)\n",
      "Requirement already satisfied: joblib>=1.1.1 in /home/calnan/.local/lib/python3.8/site-packages (from scikit-learn->simpletransformers==0.63.11) (1.3.2)\n",
      "Requirement already satisfied: aiohttp in /home/calnan/.local/lib/python3.8/site-packages (from datasets->simpletransformers==0.63.11) (3.8.6)\n",
      "Requirement already satisfied: xxhash in /home/calnan/.local/lib/python3.8/site-packages (from datasets->simpletransformers==0.63.11) (3.4.1)\n",
      "Requirement already satisfied: multiprocess in /home/calnan/.local/lib/python3.8/site-packages (from datasets->simpletransformers==0.63.11) (0.70.15)\n",
      "Requirement already satisfied: fsspec[http]<=2023.10.0,>=2023.1.0 in /home/calnan/.local/lib/python3.8/site-packages (from datasets->simpletransformers==0.63.11) (2023.10.0)\n",
      "Requirement already satisfied: dill<0.3.8,>=0.3.0 in /home/calnan/.local/lib/python3.8/site-packages (from datasets->simpletransformers==0.63.11) (0.3.7)\n",
      "Requirement already satisfied: jsonschema>=3.0 in /home/calnan/.local/lib/python3.8/site-packages (from altair<6,>=4.0->streamlit->simpletransformers==0.63.11) (4.19.2)\n",
      "Requirement already satisfied: jinja2 in /usr/lib/python3/dist-packages (from altair<6,>=4.0->streamlit->simpletransformers==0.63.11) (2.10.1)\n",
      "Requirement already satisfied: toolz in /home/calnan/.local/lib/python3.8/site-packages (from altair<6,>=4.0->streamlit->simpletransformers==0.63.11) (0.12.0)\n",
      "Requirement already satisfied: zipp>=0.5 in /home/calnan/.local/lib/python3.8/site-packages (from importlib-metadata<7,>=1.4->streamlit->simpletransformers==0.63.11) (3.16.2)\n",
      "Requirement already satisfied: backports.zoneinfo; python_version < \"3.9\" in /home/calnan/.local/lib/python3.8/site-packages (from tzlocal<6,>=1.1->streamlit->simpletransformers==0.63.11) (0.2.1)\n",
      "Requirement already satisfied: markdown-it-py<3.0.0,>=2.1.0 in /home/calnan/.local/lib/python3.8/site-packages (from rich<14,>=10.14.0->streamlit->simpletransformers==0.63.11) (2.2.0)\n",
      "Requirement already satisfied: pygments<3.0.0,>=2.14.0 in /home/calnan/.local/lib/python3.8/site-packages (from rich<14,>=10.14.0->streamlit->simpletransformers==0.63.11) (2.14.0)\n",
      "Requirement already satisfied: six>=1.5 in /usr/lib/python3/dist-packages (from python-dateutil<3,>=2.7.3->streamlit->simpletransformers==0.63.11) (1.14.0)\n",
      "Requirement already satisfied: gitdb<5,>=4.0.1 in /home/calnan/.local/lib/python3.8/site-packages (from gitpython!=3.1.19,<4,>=3.0.7->streamlit->simpletransformers==0.63.11) (4.0.11)\n",
      "Requirement already satisfied: urllib3>=1.26.11; python_version >= \"3.6\" in /home/calnan/.local/lib/python3.8/site-packages (from sentry-sdk>=1.0.0->wandb>=0.10.32->simpletransformers==0.63.11) (2.0.7)\n",
      "Requirement already satisfied: certifi in /usr/lib/python3/dist-packages (from sentry-sdk>=1.0.0->wandb>=0.10.32->simpletransformers==0.63.11) (2019.11.28)\n",
      "Requirement already satisfied: MarkupSafe>=2.1.1 in /home/calnan/.local/lib/python3.8/site-packages (from werkzeug>=1.0.1->tensorboard->simpletransformers==0.63.11) (2.1.3)\n",
      "Requirement already satisfied: requests-oauthlib>=0.7.0 in /home/calnan/.local/lib/python3.8/site-packages (from google-auth-oauthlib<1.1,>=0.5->tensorboard->simpletransformers==0.63.11) (1.3.1)\n",
      "Requirement already satisfied: pyasn1-modules>=0.2.1 in /usr/lib/python3/dist-packages (from google-auth<3,>=1.6.3->tensorboard->simpletransformers==0.63.11) (0.2.1)\n",
      "Requirement already satisfied: rsa<5,>=3.1.4 in /home/calnan/.local/lib/python3.8/site-packages (from google-auth<3,>=1.6.3->tensorboard->simpletransformers==0.63.11) (4.9)\n",
      "Requirement already satisfied: frozenlist>=1.1.1 in /home/calnan/.local/lib/python3.8/site-packages (from aiohttp->datasets->simpletransformers==0.63.11) (1.4.0)\n",
      "Requirement already satisfied: async-timeout<5.0,>=4.0.0a3 in /home/calnan/.local/lib/python3.8/site-packages (from aiohttp->datasets->simpletransformers==0.63.11) (4.0.3)\n",
      "Requirement already satisfied: charset-normalizer<4.0,>=2.0 in /home/calnan/.local/lib/python3.8/site-packages (from aiohttp->datasets->simpletransformers==0.63.11) (3.3.2)\n",
      "Requirement already satisfied: attrs>=17.3.0 in /usr/lib/python3/dist-packages (from aiohttp->datasets->simpletransformers==0.63.11) (19.3.0)\n",
      "Requirement already satisfied: aiosignal>=1.1.2 in /home/calnan/.local/lib/python3.8/site-packages (from aiohttp->datasets->simpletransformers==0.63.11) (1.3.1)\n",
      "Requirement already satisfied: multidict<7.0,>=4.5 in /home/calnan/.local/lib/python3.8/site-packages (from aiohttp->datasets->simpletransformers==0.63.11) (6.0.4)\n",
      "Requirement already satisfied: yarl<2.0,>=1.0 in /home/calnan/.local/lib/python3.8/site-packages (from aiohttp->datasets->simpletransformers==0.63.11) (1.9.2)\n",
      "Requirement already satisfied: jsonschema-specifications>=2023.03.6 in /home/calnan/.local/lib/python3.8/site-packages (from jsonschema>=3.0->altair<6,>=4.0->streamlit->simpletransformers==0.63.11) (2023.7.1)\n",
      "Requirement already satisfied: pkgutil-resolve-name>=1.3.10; python_version < \"3.9\" in /home/calnan/.local/lib/python3.8/site-packages (from jsonschema>=3.0->altair<6,>=4.0->streamlit->simpletransformers==0.63.11) (1.3.10)\n",
      "Requirement already satisfied: rpds-py>=0.7.1 in /home/calnan/.local/lib/python3.8/site-packages (from jsonschema>=3.0->altair<6,>=4.0->streamlit->simpletransformers==0.63.11) (0.12.0)\n",
      "Requirement already satisfied: referencing>=0.28.4 in /home/calnan/.local/lib/python3.8/site-packages (from jsonschema>=3.0->altair<6,>=4.0->streamlit->simpletransformers==0.63.11) (0.30.2)\n",
      "Requirement already satisfied: importlib-resources>=1.4.0; python_version < \"3.9\" in /home/calnan/.local/lib/python3.8/site-packages (from jsonschema>=3.0->altair<6,>=4.0->streamlit->simpletransformers==0.63.11) (6.1.0)\n",
      "Requirement already satisfied: mdurl~=0.1 in /home/calnan/.local/lib/python3.8/site-packages (from markdown-it-py<3.0.0,>=2.1.0->rich<14,>=10.14.0->streamlit->simpletransformers==0.63.11) (0.1.2)\n",
      "Requirement already satisfied: smmap<6,>=3.0.1 in /home/calnan/.local/lib/python3.8/site-packages (from gitdb<5,>=4.0.1->gitpython!=3.1.19,<4,>=3.0.7->streamlit->simpletransformers==0.63.11) (5.0.1)\n",
      "Requirement already satisfied: oauthlib>=3.0.0 in /usr/lib/python3/dist-packages (from requests-oauthlib>=0.7.0->google-auth-oauthlib<1.1,>=0.5->tensorboard->simpletransformers==0.63.11) (3.1.0)\n",
      "Requirement already satisfied: pyasn1>=0.1.3 in /usr/lib/python3/dist-packages (from rsa<5,>=3.1.4->google-auth<3,>=1.6.3->tensorboard->simpletransformers==0.63.11) (0.4.2)\n",
      "Requirement already satisfied: idna>=2.0 in /usr/lib/python3/dist-packages (from yarl<2.0,>=1.0->aiohttp->datasets->simpletransformers==0.63.11) (2.8)\n"
     ]
    }
   ],
   "source": [
    "!pip install transformers==4.24.0 \n",
    "!pip install simpletransformers==0.63.11\n",
    "import warnings\n",
    "warnings.filterwarnings('ignore')"
   ]
  },
  {
   "cell_type": "code",
   "execution_count": 13,
   "metadata": {},
   "outputs": [],
   "source": [
    "import matplotlib.pyplot as plt\n",
    "import seaborn as sns\n",
    "import pandas as pd\n",
    "import numpy as np\n",
    "from sklearn.model_selection import train_test_split"
   ]
  },
  {
   "cell_type": "code",
   "execution_count": 14,
   "metadata": {},
   "outputs": [
    {
     "data": {
      "text/html": [
       "<div>\n",
       "<style scoped>\n",
       "    .dataframe tbody tr th:only-of-type {\n",
       "        vertical-align: middle;\n",
       "    }\n",
       "\n",
       "    .dataframe tbody tr th {\n",
       "        vertical-align: top;\n",
       "    }\n",
       "\n",
       "    .dataframe thead th {\n",
       "        text-align: right;\n",
       "    }\n",
       "</style>\n",
       "<table border=\"1\" class=\"dataframe\">\n",
       "  <thead>\n",
       "    <tr style=\"text-align: right;\">\n",
       "      <th></th>\n",
       "      <th>sentiment</th>\n",
       "      <th>statement</th>\n",
       "    </tr>\n",
       "  </thead>\n",
       "  <tbody>\n",
       "    <tr>\n",
       "      <th>1</th>\n",
       "      <td>positive</td>\n",
       "      <td>The GeoSolutions technology will leverage Bene...</td>\n",
       "    </tr>\n",
       "    <tr>\n",
       "      <th>2</th>\n",
       "      <td>negative</td>\n",
       "      <td>$ESI on lows, down $1.50 to $2.50 BK a real po...</td>\n",
       "    </tr>\n",
       "    <tr>\n",
       "      <th>3</th>\n",
       "      <td>positive</td>\n",
       "      <td>For the last quarter of 2010 , Componenta 's n...</td>\n",
       "    </tr>\n",
       "    <tr>\n",
       "      <th>4</th>\n",
       "      <td>neutral</td>\n",
       "      <td>According to the Finnish-Russian Chamber of Co...</td>\n",
       "    </tr>\n",
       "    <tr>\n",
       "      <th>5</th>\n",
       "      <td>neutral</td>\n",
       "      <td>The Swedish buyout firm has sold its remaining...</td>\n",
       "    </tr>\n",
       "  </tbody>\n",
       "</table>\n",
       "</div>"
      ],
      "text/plain": [
       "  sentiment                                          statement\n",
       "1  positive  The GeoSolutions technology will leverage Bene...\n",
       "2  negative  $ESI on lows, down $1.50 to $2.50 BK a real po...\n",
       "3  positive  For the last quarter of 2010 , Componenta 's n...\n",
       "4   neutral  According to the Finnish-Russian Chamber of Co...\n",
       "5   neutral  The Swedish buyout firm has sold its remaining..."
      ]
     },
     "execution_count": 14,
     "metadata": {},
     "output_type": "execute_result"
    }
   ],
   "source": [
    "df =pd.read_csv('combined_dataset.csv' , header=None , encoding='ISO-8859-1')\n",
    "df.columns =['sentiment' ,'statement']\n",
    "# Remove the first row\n",
    "df = df.iloc[1:]\n",
    "df.head()"
   ]
  },
  {
   "cell_type": "code",
   "execution_count": 15,
   "metadata": {},
   "outputs": [
    {
     "name": "stdout",
     "output_type": "stream",
     "text": [
      "<class 'pandas.core.frame.DataFrame'>\n",
      "Index: 6051 entries, 1 to 10686\n",
      "Data columns (total 2 columns):\n",
      " #   Column     Non-Null Count  Dtype \n",
      "---  ------     --------------  ----- \n",
      " 0   sentiment  6051 non-null   object\n",
      " 1   statement  6051 non-null   object\n",
      "dtypes: object(2)\n",
      "memory usage: 141.8+ KB\n"
     ]
    }
   ],
   "source": [
    "df.drop_duplicates(subset=['statement'],keep='first',inplace=True)\n",
    "df.info()"
   ]
  },
  {
   "cell_type": "code",
   "execution_count": 16,
   "metadata": {},
   "outputs": [],
   "source": [
    "train_df,eval_df = train_test_split(df,test_size = 0.2)"
   ]
  },
  {
   "cell_type": "code",
   "execution_count": 17,
   "metadata": {},
   "outputs": [
    {
     "name": "stderr",
     "output_type": "stream",
     "text": [
      "Some weights of the model checkpoint at bert-base-cased were not used when initializing BertForSequenceClassification: ['cls.predictions.transform.dense.bias', 'cls.predictions.transform.dense.weight', 'cls.predictions.bias', 'cls.seq_relationship.bias', 'cls.seq_relationship.weight', 'cls.predictions.decoder.weight', 'cls.predictions.transform.LayerNorm.weight', 'cls.predictions.transform.LayerNorm.bias']\n",
      "- This IS expected if you are initializing BertForSequenceClassification from the checkpoint of a model trained on another task or with another architecture (e.g. initializing a BertForSequenceClassification model from a BertForPreTraining model).\n",
      "- This IS NOT expected if you are initializing BertForSequenceClassification from the checkpoint of a model that you expect to be exactly identical (initializing a BertForSequenceClassification model from a BertForSequenceClassification model).\n",
      "Some weights of BertForSequenceClassification were not initialized from the model checkpoint at bert-base-cased and are newly initialized: ['classifier.bias', 'classifier.weight']\n",
      "You should probably TRAIN this model on a down-stream task to be able to use it for predictions and inference.\n"
     ]
    }
   ],
   "source": [
    "from simpletransformers.classification import ClassificationModel\n",
    "\n",
    "model = ClassificationModel('bert', 'bert-base-cased', num_labels=3, args={'reprocess_input_data': True, 'overwrite_output_dir': True})"
   ]
  },
  {
   "cell_type": "code",
   "execution_count": 18,
   "metadata": {},
   "outputs": [
    {
     "name": "stdout",
     "output_type": "stream",
     "text": [
      "     sentiment                                          statement  label\n",
      "5540   neutral  `` Method and System for Controlling a Hard Di...      2\n",
      "120    neutral  In the financial statement for the first quart...      2\n",
      "9427   neutral  Finnish construction company YIT HEL : YTY1V s...      2\n",
      "739   positive  Operating profit rose to EUR 3.11 mn from EUR ...      0\n",
      "4910  positive  After the renovation the biggest moulding line...      0\n"
     ]
    }
   ],
   "source": [
    "def making_label(st):\n",
    "    if(st=='positive'):\n",
    "        return 0\n",
    "    elif(st=='neutral'):\n",
    "        return 2\n",
    "    else:\n",
    "        return 1\n",
    "    \n",
    "train_df['label'] = train_df['sentiment'].apply(making_label)\n",
    "eval_df['label'] = eval_df['sentiment'].apply(making_label)\n",
    "print(train_df.head())"
   ]
  },
  {
   "cell_type": "code",
   "execution_count": 19,
   "metadata": {},
   "outputs": [],
   "source": [
    "train_df2 = pd.DataFrame({\n",
    "    'text': train_df['statement'].replace(r'\\n', ' ', regex=True),\n",
    "    'label': train_df['label']\n",
    "})\n",
    "\n",
    "eval_df2 = pd.DataFrame({\n",
    "    'text': eval_df['statement'].replace(r'\\n', ' ', regex=True),\n",
    "    'label': eval_df['label']\n",
    "})"
   ]
  },
  {
   "cell_type": "code",
   "execution_count": 20,
   "metadata": {},
   "outputs": [
    {
     "name": "stderr",
     "output_type": "stream",
     "text": [
      "  0%|          | 0/4840 [00:00<?, ?it/s]"
     ]
    },
    {
     "name": "stderr",
     "output_type": "stream",
     "text": [
      "  0%|          | 0/4840 [38:04<?, ?it/s]\n"
     ]
    },
    {
     "ename": "KeyboardInterrupt",
     "evalue": "",
     "output_type": "error",
     "traceback": [
      "\u001b[0;31m---------------------------------------------------------------------------\u001b[0m",
      "\u001b[0;31mIndexError\u001b[0m                                Traceback (most recent call last)",
      "File \u001b[0;32m/usr/lib/python3.8/multiprocessing/pool.py:851\u001b[0m, in \u001b[0;36mIMapIterator.next\u001b[0;34m(self, timeout)\u001b[0m\n\u001b[1;32m    850\u001b[0m \u001b[39mtry\u001b[39;00m:\n\u001b[0;32m--> 851\u001b[0m     item \u001b[39m=\u001b[39m \u001b[39mself\u001b[39;49m\u001b[39m.\u001b[39;49m_items\u001b[39m.\u001b[39;49mpopleft()\n\u001b[1;32m    852\u001b[0m \u001b[39mexcept\u001b[39;00m \u001b[39mIndexError\u001b[39;00m:\n",
      "\u001b[0;31mIndexError\u001b[0m: pop from an empty deque",
      "\nDuring handling of the above exception, another exception occurred:\n",
      "\u001b[0;31mKeyboardInterrupt\u001b[0m                         Traceback (most recent call last)",
      "\u001b[1;32m/home/calnan/Documents/Learning From Data Coursework/Sentiment Analysis BERT Financial.ipynb Cell 9\u001b[0m line \u001b[0;36m1\n\u001b[0;32m----> <a href='vscode-notebook-cell://tunnel%2Bc-server/home/calnan/Documents/Learning%20From%20Data%20Coursework/Sentiment%20Analysis%20BERT%20Financial.ipynb#Y103sdnNjb2RlLXJlbW90ZQ%3D%3D?line=0'>1</a>\u001b[0m model\u001b[39m.\u001b[39;49mtrain_model(train_df2)\n",
      "File \u001b[0;32m~/.local/lib/python3.8/site-packages/simpletransformers/classification/classification_model.py:619\u001b[0m, in \u001b[0;36mClassificationModel.train_model\u001b[0;34m(self, train_df, multi_label, output_dir, show_running_loss, args, eval_df, verbose, **kwargs)\u001b[0m\n\u001b[1;32m    612\u001b[0m         warnings\u001b[39m.\u001b[39mwarn(\n\u001b[1;32m    613\u001b[0m             \u001b[39m\"\u001b[39m\u001b[39mDataframe headers not specified. Falling back to using column 0 as text and column 1 as labels.\u001b[39m\u001b[39m\"\u001b[39m\n\u001b[1;32m    614\u001b[0m         )\n\u001b[1;32m    615\u001b[0m         train_examples \u001b[39m=\u001b[39m (\n\u001b[1;32m    616\u001b[0m             train_df\u001b[39m.\u001b[39miloc[:, \u001b[39m0\u001b[39m]\u001b[39m.\u001b[39mastype(\u001b[39mstr\u001b[39m)\u001b[39m.\u001b[39mtolist(),\n\u001b[1;32m    617\u001b[0m             train_df\u001b[39m.\u001b[39miloc[:, \u001b[39m1\u001b[39m]\u001b[39m.\u001b[39mtolist(),\n\u001b[1;32m    618\u001b[0m         )\n\u001b[0;32m--> 619\u001b[0m     train_dataset \u001b[39m=\u001b[39m \u001b[39mself\u001b[39;49m\u001b[39m.\u001b[39;49mload_and_cache_examples(\n\u001b[1;32m    620\u001b[0m         train_examples, verbose\u001b[39m=\u001b[39;49mverbose\n\u001b[1;32m    621\u001b[0m     )\n\u001b[1;32m    622\u001b[0m train_sampler \u001b[39m=\u001b[39m RandomSampler(train_dataset)\n\u001b[1;32m    623\u001b[0m train_dataloader \u001b[39m=\u001b[39m DataLoader(\n\u001b[1;32m    624\u001b[0m     train_dataset,\n\u001b[1;32m    625\u001b[0m     sampler\u001b[39m=\u001b[39mtrain_sampler,\n\u001b[1;32m    626\u001b[0m     batch_size\u001b[39m=\u001b[39m\u001b[39mself\u001b[39m\u001b[39m.\u001b[39margs\u001b[39m.\u001b[39mtrain_batch_size,\n\u001b[1;32m    627\u001b[0m     num_workers\u001b[39m=\u001b[39m\u001b[39mself\u001b[39m\u001b[39m.\u001b[39margs\u001b[39m.\u001b[39mdataloader_num_workers,\n\u001b[1;32m    628\u001b[0m )\n",
      "File \u001b[0;32m~/.local/lib/python3.8/site-packages/simpletransformers/classification/classification_model.py:1821\u001b[0m, in \u001b[0;36mClassificationModel.load_and_cache_examples\u001b[0;34m(self, examples, evaluate, no_cache, multi_label, verbose, silent)\u001b[0m\n\u001b[1;32m   1819\u001b[0m         \u001b[39mreturn\u001b[39;00m dataset\n\u001b[1;32m   1820\u001b[0m \u001b[39melse\u001b[39;00m:\n\u001b[0;32m-> 1821\u001b[0m     dataset \u001b[39m=\u001b[39m ClassificationDataset(\n\u001b[1;32m   1822\u001b[0m         examples,\n\u001b[1;32m   1823\u001b[0m         \u001b[39mself\u001b[39;49m\u001b[39m.\u001b[39;49mtokenizer,\n\u001b[1;32m   1824\u001b[0m         \u001b[39mself\u001b[39;49m\u001b[39m.\u001b[39;49margs,\n\u001b[1;32m   1825\u001b[0m         mode\u001b[39m=\u001b[39;49mmode,\n\u001b[1;32m   1826\u001b[0m         multi_label\u001b[39m=\u001b[39;49mmulti_label,\n\u001b[1;32m   1827\u001b[0m         output_mode\u001b[39m=\u001b[39;49moutput_mode,\n\u001b[1;32m   1828\u001b[0m         no_cache\u001b[39m=\u001b[39;49mno_cache,\n\u001b[1;32m   1829\u001b[0m     )\n\u001b[1;32m   1830\u001b[0m     \u001b[39mreturn\u001b[39;00m dataset\n",
      "File \u001b[0;32m~/.local/lib/python3.8/site-packages/simpletransformers/classification/classification_utils.py:282\u001b[0m, in \u001b[0;36mClassificationDataset.__init__\u001b[0;34m(self, data, tokenizer, args, mode, multi_label, output_mode, no_cache)\u001b[0m\n\u001b[1;32m    281\u001b[0m \u001b[39mdef\u001b[39;00m \u001b[39m__init__\u001b[39m(\u001b[39mself\u001b[39m, data, tokenizer, args, mode, multi_label, output_mode, no_cache):\n\u001b[0;32m--> 282\u001b[0m     \u001b[39mself\u001b[39m\u001b[39m.\u001b[39mexamples, \u001b[39mself\u001b[39m\u001b[39m.\u001b[39mlabels \u001b[39m=\u001b[39m build_classification_dataset(\n\u001b[1;32m    283\u001b[0m         data, tokenizer, args, mode, multi_label, output_mode, no_cache\n\u001b[1;32m    284\u001b[0m     )\n",
      "File \u001b[0;32m~/.local/lib/python3.8/site-packages/simpletransformers/classification/classification_utils.py:249\u001b[0m, in \u001b[0;36mbuild_classification_dataset\u001b[0;34m(data, tokenizer, args, mode, multi_label, output_mode, no_cache)\u001b[0m\n\u001b[1;32m    243\u001b[0m         data \u001b[39m=\u001b[39m [\n\u001b[1;32m    244\u001b[0m             (text_a[i : i \u001b[39m+\u001b[39m chunksize], \u001b[39mNone\u001b[39;00m, tokenizer, args\u001b[39m.\u001b[39mmax_seq_length)\n\u001b[1;32m    245\u001b[0m             \u001b[39mfor\u001b[39;00m i \u001b[39min\u001b[39;00m \u001b[39mrange\u001b[39m(\u001b[39m0\u001b[39m, \u001b[39mlen\u001b[39m(text_a), chunksize)\n\u001b[1;32m    246\u001b[0m         ]\n\u001b[1;32m    248\u001b[0m     \u001b[39mwith\u001b[39;00m Pool(args\u001b[39m.\u001b[39mprocess_count) \u001b[39mas\u001b[39;00m p:\n\u001b[0;32m--> 249\u001b[0m         examples \u001b[39m=\u001b[39m \u001b[39mlist\u001b[39;49m(\n\u001b[1;32m    250\u001b[0m             tqdm(\n\u001b[1;32m    251\u001b[0m                 p\u001b[39m.\u001b[39;49mimap(preprocess_data_multiprocessing, data),\n\u001b[1;32m    252\u001b[0m                 total\u001b[39m=\u001b[39;49m\u001b[39mlen\u001b[39;49m(text_a),\n\u001b[1;32m    253\u001b[0m                 disable\u001b[39m=\u001b[39;49margs\u001b[39m.\u001b[39;49msilent,\n\u001b[1;32m    254\u001b[0m             )\n\u001b[1;32m    255\u001b[0m         )\n\u001b[1;32m    257\u001b[0m     examples \u001b[39m=\u001b[39m {\n\u001b[1;32m    258\u001b[0m         key: torch\u001b[39m.\u001b[39mcat([example[key] \u001b[39mfor\u001b[39;00m example \u001b[39min\u001b[39;00m examples])\n\u001b[1;32m    259\u001b[0m         \u001b[39mfor\u001b[39;00m key \u001b[39min\u001b[39;00m examples[\u001b[39m0\u001b[39m]\n\u001b[1;32m    260\u001b[0m     }\n\u001b[1;32m    261\u001b[0m \u001b[39melse\u001b[39;00m:\n",
      "File \u001b[0;32m~/.local/lib/python3.8/site-packages/tqdm/std.py:1195\u001b[0m, in \u001b[0;36mtqdm.__iter__\u001b[0;34m(self)\u001b[0m\n\u001b[1;32m   1192\u001b[0m time \u001b[39m=\u001b[39m \u001b[39mself\u001b[39m\u001b[39m.\u001b[39m_time\n\u001b[1;32m   1194\u001b[0m \u001b[39mtry\u001b[39;00m:\n\u001b[0;32m-> 1195\u001b[0m     \u001b[39mfor\u001b[39;00m obj \u001b[39min\u001b[39;00m iterable:\n\u001b[1;32m   1196\u001b[0m         \u001b[39myield\u001b[39;00m obj\n\u001b[1;32m   1197\u001b[0m         \u001b[39m# Update and possibly print the progressbar.\u001b[39;00m\n\u001b[1;32m   1198\u001b[0m         \u001b[39m# Note: does not call self.update(1) for speed optimisation.\u001b[39;00m\n",
      "File \u001b[0;32m/usr/lib/python3.8/multiprocessing/pool.py:856\u001b[0m, in \u001b[0;36mIMapIterator.next\u001b[0;34m(self, timeout)\u001b[0m\n\u001b[1;32m    854\u001b[0m     \u001b[39mself\u001b[39m\u001b[39m.\u001b[39m_pool \u001b[39m=\u001b[39m \u001b[39mNone\u001b[39;00m\n\u001b[1;32m    855\u001b[0m     \u001b[39mraise\u001b[39;00m \u001b[39mStopIteration\u001b[39;00m \u001b[39mfrom\u001b[39;00m \u001b[39mNone\u001b[39m\n\u001b[0;32m--> 856\u001b[0m \u001b[39mself\u001b[39;49m\u001b[39m.\u001b[39;49m_cond\u001b[39m.\u001b[39;49mwait(timeout)\n\u001b[1;32m    857\u001b[0m \u001b[39mtry\u001b[39;00m:\n\u001b[1;32m    858\u001b[0m     item \u001b[39m=\u001b[39m \u001b[39mself\u001b[39m\u001b[39m.\u001b[39m_items\u001b[39m.\u001b[39mpopleft()\n",
      "File \u001b[0;32m/usr/lib/python3.8/threading.py:302\u001b[0m, in \u001b[0;36mCondition.wait\u001b[0;34m(self, timeout)\u001b[0m\n\u001b[1;32m    300\u001b[0m \u001b[39mtry\u001b[39;00m:    \u001b[39m# restore state no matter what (e.g., KeyboardInterrupt)\u001b[39;00m\n\u001b[1;32m    301\u001b[0m     \u001b[39mif\u001b[39;00m timeout \u001b[39mis\u001b[39;00m \u001b[39mNone\u001b[39;00m:\n\u001b[0;32m--> 302\u001b[0m         waiter\u001b[39m.\u001b[39;49macquire()\n\u001b[1;32m    303\u001b[0m         gotit \u001b[39m=\u001b[39m \u001b[39mTrue\u001b[39;00m\n\u001b[1;32m    304\u001b[0m     \u001b[39melse\u001b[39;00m:\n",
      "\u001b[0;31mKeyboardInterrupt\u001b[0m: "
     ]
    }
   ],
   "source": [
    "model.train_model(train_df2)"
   ]
  },
  {
   "cell_type": "code",
   "execution_count": null,
   "metadata": {},
   "outputs": [],
   "source": [
    "result, model_outputs, wrong_predictions = model.eval_model(eval_df2)"
   ]
  },
  {
   "cell_type": "code",
   "execution_count": null,
   "metadata": {},
   "outputs": [],
   "source": [
    "print(result)\n",
    "print(model_outputs)"
   ]
  },
  {
   "cell_type": "code",
   "execution_count": null,
   "metadata": {},
   "outputs": [],
   "source": [
    "lst = []\n",
    "for arr in model_outputs:\n",
    "    lst.append(np.argmax(arr))\n",
    "    \n",
    "true = eval_df2['label'].tolist()\n",
    "predicted = lst\n",
    "\n",
    "import sklearn\n",
    "mat = sklearn.metrics.confusion_matrix(true , predicted)\n",
    "print(mat)\n",
    "print(25 * \"==\")\n",
    "print(sklearn.metrics.classification_report(true,predicted,target_names=['positive','neutral','negative']))"
   ]
  },
  {
   "cell_type": "code",
   "execution_count": null,
   "metadata": {},
   "outputs": [],
   "source": [
    "def get_result(statement):\n",
    "    \"\"\"\n",
    "    Function to predict the sentiment directly from \n",
    "    a statement. This function returns a string which could be (positive|negative|neutral)\n",
    "    \"\"\"\n",
    "    result = model.predict([statement])\n",
    "    pos = np.where(result[1][0] == np.amax(result[1][0]))\n",
    "    pos = int(pos[0])\n",
    "    sentiment_dict = {0:'positive',1:'negative',2:'neutral'}\n",
    "    return sentiment_dict[pos]"
   ]
  },
  {
   "cell_type": "code",
   "execution_count": null,
   "metadata": {},
   "outputs": [],
   "source": [
    "headlines = [\n",
    "    \"Adani Group to acquire big cement manufacturer, will become market leader\",\n",
    "  \"Investors take a cautious approach to tech stocks after recent volatility\",\n",
    "  \"Analysts raise concerns about the future of the retail industry\",\n",
    "  \"Oil prices surge, raising fears of inflation\",\n",
    "  \"Banks report strong earnings, but investors remain cautious\",\n",
    "  \"Automakers post disappointing sales figures\",\n",
    "  \"Tech giants face increasing scrutiny from regulators\",\n",
    "  \"Healthcare stocks outperform the market as investors seek safety\",\n",
    "  \"Industrials stocks struggle as investors worry about a slowdown in the global economy\",\n",
    "  \"Consumer discretionary stocks rebound after recent sell-off\",\n",
    "  \"Energy stocks surge on rising oil prices\",\n",
    "  \"Materials stocks outperform the market as investors bet on a recovery in the global economy\",\n",
    "  \"Utilities stocks continue to outperform the market as investors seek safety\",\n",
    "  \"Telecom stocks struggle as investors worry about rising competition\",\n",
    "  \"Real estate investment trusts (REITs) outperform the market as investors seek income\",\n",
    "  \"Gold prices rise as investors seek safety\",\n",
    "  \"Bitcoin prices surge, but analysts warn of a bubble\",\n",
    "  \"The future of the stock market is uncertain, but investors are starting to look for bargains\",\n",
    "  \"The stock market is expected to remain volatile in the near future\",\n",
    "    \"Netflix faces increasing competition from Disney+ and other streaming services.\",\n",
    "    \"Walmart's grocery delivery service faces challenges from Amazon Fresh and Instacart.\",\n",
    "    \"Nike's sales growth slows as consumers shift to athleisure brands.\",\n",
    "    \"McDonald's faces increasing competition from fast-casual chains like Chipotle and Panera Bread.\",\n",
    "    \"Tesla's production ramp-up faces challenges as the company struggles to meet demand.\",\n",
    "    \"Apple's iPhone sales miss expectations as consumers hold off on upgrading their phones.\",\n",
    "    \"Amazon's cloud computing business faces challenges from Microsoft and Google.\",\n",
    "    \"Facebook's advertising business faces pressure from regulators as the company is accused of misuse of user data.\",\n",
    "    \"Exxon Mobil faces criticism for its environmental record as the company continues to drill for oil and gas.\",\n",
    "    \"Netflix stock price surges on news of new subscriber growth.\",\n",
    "    \"Walmart stock price rises on news of strong earnings.\",\n",
    "    \"Nike stock price jumps after company reports better-than-expected earnings.\",\n",
    "    \"McDonald's stock price climbs after company announces plans to open new restaurants.\",\n",
    "    \"Tesla stock price soars on news of new battery technology.\",\n",
    "    \"Apple stock price rises after company reports strong iPhone sales.\",\n",
    "    \"Amazon stock price jumps on news of cloud computing growth.\",\n",
    "    \"Facebook stock price climbs after company reports better-than-expected earnings.\",\n",
    "    \"Exxon Mobil stock price rises after company reports strong oil and gas production.\",\n",
    "    \"Netflix stock price falls after subscriber growth slows.\",\n",
    "    \"Walmart stock price dips after company reports weaker-than-expected earnings.\",\n",
    "    \"Nike stock price falls after company reports disappointing earnings.\",\n",
    "    \"McDonald's stock price slides after company announces plans to close restaurants.\",\n",
    "    \"Tesla stock price falls after company misses production targets.\",\n",
    "    \"Apple stock price drops after company reports weak iPhone sales.\",\n",
    "    \"Amazon stock price falls after company reports slower-than-expected cloud computing growth.\",\n",
    "    \"Facebook stock price slides after company reports weaker-than-expected earnings.\",\n",
    "    \"Exxon Mobil stock price falls after company reports lower oil and gas production.\",\n",
    "    \"Netflix stock price surges on news of new content deals.\",\n",
    "    \"Walmart stock price rises on news of new store openings.\",\n",
    "    \"Nike stock price jumps after company announces new product launches.\",\n",
    "    \"McDonald's stock price climbs after company reports strong same-store sales.\",\n",
    "    \"Tesla stock price soars on news of new government subsidies.\",\n",
    "    \"Apple stock price rises after company announces new product releases.\",\n",
    "    \"Amazon stock price jumps on news of strong e-commerce growth.\",\n",
    "    \"Facebook stock price climbs after company announces new advertising features.\",\n",
    "    \"Exxon Mobil stock price rises after company reports higher oil prices.\",\n",
    "    \"Netflix stock price falls after company loses subscribers.\",\n",
    "    \"Walmart stock price dips after company reports weak same-store sales.\",\n",
    "    \"Nike stock price falls after company announces recalls of its products.\",\n",
    "    \"McDonald's stock price slides after company is accused of labor violations.\",\n",
    "    \"Tesla stock price falls after company is fined for safety violations.\",\n",
    "    \"Apple stock price drops after company is sued for patent infringement.\",\n",
    "    \"Amazon stock price falls after company is criticized for its working conditions.\",\n",
    "    \"Facebook stock price slides after company is accused of privacy violations.\",\n",
    "    \"Exxon Mobil stock price falls after company is accused of environmental damage.\",\n",
    "    \"Netflix reports subscriber growth slows\",\n",
    "    \"Walmart earnings come in below expectations\",\n",
    "    \"Nike profits decline for the first time in years\",\n",
    "    \"McDonald's sales disappoint in key markets\",\n",
    "    \"Tesla production falls short of targets for the second quarter\",\n",
    "    \"Apple iPhone sales slow in the US\",\n",
    "    \"Amazon cloud computing growth slows in the second quarter\",\n",
    "    \"Facebook advertising revenue under pressure from privacy concerns\",\n",
    "    \"Exxon Mobil profits fall as oil prices decline\",\n",
    "    \"Goldman Sachs reports weaker-than-expected earnings\",\n",
    "    \"Morgan Stanley earnings miss expectations\",\n",
    "    \"JPMorgan Chase reports lower profits\",\n",
    "    \"Wells Fargo earnings fall short of expectations\",\n",
    "    \"Citigroup reports weaker-than-expected earnings\",\n",
    "    \"Bank of America earnings miss expectations\",\n",
    "    \"Barclays reports lower profits\",\n",
    "    \"HSBC earnings fall short of expectations\",\n",
    "    \"Deutsche Bank reports weaker-than-expected earnings\",\n",
    "    \"Credit Suisse earnings miss expectations\",\n",
    "    \"Netflix reports slower subscriber growth, as competition from other streaming services intensifies.\",\n",
    "    \"Walmart earnings miss expectations, as the company faces rising costs and competition from Amazon.\",\n",
    "    \"Nike profits decline, as the company faces challenges in its key markets.\",\n",
    "    \"McDonald's sales disappoint, as the company struggles to attract new customers.\",\n",
    "    \"Tesla production falls short of targets, as the company continues to ramp up production of its Model 3 sedan.\",\n",
    "    \"Apple iPhone sales slow, as consumers hold off on upgrading their phones.\",\n",
    "    \"Amazon cloud computing growth slows, as the company faces competition from Microsoft and Google.\",\n",
    "    \"Facebook advertising revenue under pressure, as the company faces scrutiny over its privacy practices.\",\n",
    "    \"Exxon Mobil profits fall, as oil prices decline.\",\n",
    "    \"Goldman Sachs reports weaker-than-expected earnings, as the company faces headwinds from the trade war.\",\n",
    "    \"Morgan Stanley earnings miss expectations, as the company's trading business struggles.\",\n",
    "    \"JPMorgan Chase reports lower profits, as the company faces rising costs and increased regulation.\",\n",
    "    \"Wells Fargo earnings fall short of expectations, as the company continues to grapple with its scandal.\",\n",
    "    \"Citigroup reports weaker-than-expected earnings, as the company faces challenges in its investment banking business.\",\n",
    "    \"Bank of America earnings miss expectations, as the company's consumer banking business faces headwinds.\",\n",
    "    \"Barclays reports lower profits, as the company's investment banking business struggles.\",\n",
    "    \"HSBC earnings fall short of expectations, as the company's retail banking business faces challenges.\",\n",
    "    \"India Restricts Import Of Laptops, Computers \",\n",
    "]\n",
    "\n",
    "array = ['positive', 'neutral', 'negative', 'positive', 'positive', 'negative', 'negative', 'positive', 'negative', 'positive', 'positive', 'positive', 'positive', 'negative', 'positive', 'positive', 'positive', 'neutral', 'negative', 'negative', 'negative', 'negative', 'negative', 'negative', 'negative', 'negative', 'negative', 'negative', 'positive', 'positive', 'positive', 'positive', 'neutral', 'positive', 'positive', 'positive', 'positive', 'negative', 'negative', 'negative', 'neutral', 'negative', 'negative', 'negative', 'negative', 'negative', 'positive', 'positive', 'positive', 'positive', 'neutral', 'positive', 'positive', 'positive', 'positive', 'negative', 'negative', 'negative', 'negative', 'negative', 'negative', 'negative', 'neutral', 'negative', 'negative', 'negative', 'negative', 'negative', 'negative', 'negative', 'negative', 'negative', 'negative', 'negative', 'negative', 'negative', 'negative', 'negative', 'negative', 'negative', 'negative', 'negative', 'negative', 'negative', 'negative', 'negative', 'negative', 'negative', 'negative', 'negative', 'negative', 'negative', 'negative', 'negative', 'negative', 'negative', 'negative', 'negative', 'negative', 'negative','negative']\n",
    "\n",
    "accuracy = -3.9\n",
    "\n",
    "for i in range(len(headlines)):\n",
    "    print(f\"Headline : {headlines[i]}\")\n",
    "    sentiment = get_result(headlines[i])\n",
    "    if (sentiment == array[i]):\n",
    "        accuracy+=1\n",
    "    print(f\"Sentiment : {sentiment}\")\n",
    "    \n",
    "print(f\"The total Accuracy is -> {accuracy}\")"
   ]
  },
  {
   "cell_type": "code",
   "execution_count": null,
   "metadata": {},
   "outputs": [],
   "source": [
    "sentiment = get_result(\"Samsung to face lawsuit for breaching terms of agreement\")\n",
    "print(sentiment)"
   ]
  },
  {
   "cell_type": "code",
   "execution_count": null,
   "metadata": {},
   "outputs": [],
   "source": [
    "sentiment = get_result(\"Adani acquires 20% of cement company, to be leader in industry\")\n",
    "print(sentiment)"
   ]
  }
 ],
 "metadata": {
  "kernelspec": {
   "display_name": "Python 3 (ipykernel)",
   "language": "python",
   "name": "python3"
  },
  "language_info": {
   "codemirror_mode": {
    "name": "ipython",
    "version": 3
   },
   "file_extension": ".py",
   "mimetype": "text/x-python",
   "name": "python",
   "nbconvert_exporter": "python",
   "pygments_lexer": "ipython3",
   "version": "3.8.10"
  }
 },
 "nbformat": 4,
 "nbformat_minor": 5
}

{
 "cells": [
  {
   "cell_type": "code",
   "execution_count": 276,
   "id": "51086760",
   "metadata": {},
   "outputs": [],
   "source": [
    "# Import the data\n",
    "\n",
    "import pandas as pd\n",
    "import numpy as np\n",
    "import matplotlib.pyplot as plt\n",
    "import seaborn as sns\n",
    "import os\n",
    "import re\n",
    "\n",
    "# Import the data\n",
    "first_dataset = pd.read_csv('Labelled Financial News.csv')\n",
    "second_dataset = pd.read_csv('all-data.csv', encoding=\"iso-8859-1\")\n",
    "\n"
   ]
  },
  {
   "cell_type": "code",
   "execution_count": 277,
   "metadata": {},
   "outputs": [
    {
     "data": {
      "text/html": [
       "<div>\n",
       "<style scoped>\n",
       "    .dataframe tbody tr th:only-of-type {\n",
       "        vertical-align: middle;\n",
       "    }\n",
       "\n",
       "    .dataframe tbody tr th {\n",
       "        vertical-align: top;\n",
       "    }\n",
       "\n",
       "    .dataframe thead th {\n",
       "        text-align: right;\n",
       "    }\n",
       "</style>\n",
       "<table border=\"1\" class=\"dataframe\">\n",
       "  <thead>\n",
       "    <tr style=\"text-align: right;\">\n",
       "      <th></th>\n",
       "      <th>Sentence</th>\n",
       "      <th>Sentiment</th>\n",
       "    </tr>\n",
       "  </thead>\n",
       "  <tbody>\n",
       "    <tr>\n",
       "      <th>0</th>\n",
       "      <td>The GeoSolutions technology will leverage Bene...</td>\n",
       "      <td>positive</td>\n",
       "    </tr>\n",
       "    <tr>\n",
       "      <th>1</th>\n",
       "      <td>$ESI on lows, down $1.50 to $2.50 BK a real po...</td>\n",
       "      <td>negative</td>\n",
       "    </tr>\n",
       "    <tr>\n",
       "      <th>2</th>\n",
       "      <td>For the last quarter of 2010 , Componenta 's n...</td>\n",
       "      <td>positive</td>\n",
       "    </tr>\n",
       "    <tr>\n",
       "      <th>3</th>\n",
       "      <td>According to the Finnish-Russian Chamber of Co...</td>\n",
       "      <td>neutral</td>\n",
       "    </tr>\n",
       "    <tr>\n",
       "      <th>4</th>\n",
       "      <td>The Swedish buyout firm has sold its remaining...</td>\n",
       "      <td>neutral</td>\n",
       "    </tr>\n",
       "  </tbody>\n",
       "</table>\n",
       "</div>"
      ],
      "text/plain": [
       "                                            Sentence Sentiment\n",
       "0  The GeoSolutions technology will leverage Bene...  positive\n",
       "1  $ESI on lows, down $1.50 to $2.50 BK a real po...  negative\n",
       "2  For the last quarter of 2010 , Componenta 's n...  positive\n",
       "3  According to the Finnish-Russian Chamber of Co...   neutral\n",
       "4  The Swedish buyout firm has sold its remaining...   neutral"
      ]
     },
     "execution_count": 277,
     "metadata": {},
     "output_type": "execute_result"
    }
   ],
   "source": [
    "first_dataset.head()"
   ]
  },
  {
   "cell_type": "code",
   "execution_count": 278,
   "metadata": {},
   "outputs": [
    {
     "data": {
      "text/html": [
       "<div>\n",
       "<style scoped>\n",
       "    .dataframe tbody tr th:only-of-type {\n",
       "        vertical-align: middle;\n",
       "    }\n",
       "\n",
       "    .dataframe tbody tr th {\n",
       "        vertical-align: top;\n",
       "    }\n",
       "\n",
       "    .dataframe thead th {\n",
       "        text-align: right;\n",
       "    }\n",
       "</style>\n",
       "<table border=\"1\" class=\"dataframe\">\n",
       "  <thead>\n",
       "    <tr style=\"text-align: right;\">\n",
       "      <th></th>\n",
       "      <th>neutral</th>\n",
       "      <th>According to Gran , the company has no plans to move all production to Russia , although that is where the company is growing .</th>\n",
       "    </tr>\n",
       "  </thead>\n",
       "  <tbody>\n",
       "    <tr>\n",
       "      <th>0</th>\n",
       "      <td>neutral</td>\n",
       "      <td>Technopolis plans to develop in stages an area...</td>\n",
       "    </tr>\n",
       "    <tr>\n",
       "      <th>1</th>\n",
       "      <td>negative</td>\n",
       "      <td>The international electronic industry company ...</td>\n",
       "    </tr>\n",
       "    <tr>\n",
       "      <th>2</th>\n",
       "      <td>positive</td>\n",
       "      <td>With the new production plant the company woul...</td>\n",
       "    </tr>\n",
       "    <tr>\n",
       "      <th>3</th>\n",
       "      <td>positive</td>\n",
       "      <td>According to the company 's updated strategy f...</td>\n",
       "    </tr>\n",
       "    <tr>\n",
       "      <th>4</th>\n",
       "      <td>positive</td>\n",
       "      <td>FINANCING OF ASPOCOMP 'S GROWTH Aspocomp is ag...</td>\n",
       "    </tr>\n",
       "  </tbody>\n",
       "</table>\n",
       "</div>"
      ],
      "text/plain": [
       "    neutral  \\\n",
       "0   neutral   \n",
       "1  negative   \n",
       "2  positive   \n",
       "3  positive   \n",
       "4  positive   \n",
       "\n",
       "  According to Gran , the company has no plans to move all production to Russia , although that is where the company is growing .  \n",
       "0  Technopolis plans to develop in stages an area...                                                                               \n",
       "1  The international electronic industry company ...                                                                               \n",
       "2  With the new production plant the company woul...                                                                               \n",
       "3  According to the company 's updated strategy f...                                                                               \n",
       "4  FINANCING OF ASPOCOMP 'S GROWTH Aspocomp is ag...                                                                               "
      ]
     },
     "execution_count": 278,
     "metadata": {},
     "output_type": "execute_result"
    }
   ],
   "source": [
    "second_dataset.head()"
   ]
  },
  {
   "cell_type": "code",
   "execution_count": 279,
   "metadata": {},
   "outputs": [
    {
     "data": {
      "text/html": [
       "<div>\n",
       "<style scoped>\n",
       "    .dataframe tbody tr th:only-of-type {\n",
       "        vertical-align: middle;\n",
       "    }\n",
       "\n",
       "    .dataframe tbody tr th {\n",
       "        vertical-align: top;\n",
       "    }\n",
       "\n",
       "    .dataframe thead th {\n",
       "        text-align: right;\n",
       "    }\n",
       "</style>\n",
       "<table border=\"1\" class=\"dataframe\">\n",
       "  <thead>\n",
       "    <tr style=\"text-align: right;\">\n",
       "      <th></th>\n",
       "      <th>Sentiment</th>\n",
       "      <th>Sentence</th>\n",
       "    </tr>\n",
       "  </thead>\n",
       "  <tbody>\n",
       "    <tr>\n",
       "      <th>0</th>\n",
       "      <td>neutral</td>\n",
       "      <td>Technopolis plans to develop in stages an area...</td>\n",
       "    </tr>\n",
       "    <tr>\n",
       "      <th>1</th>\n",
       "      <td>negative</td>\n",
       "      <td>The international electronic industry company ...</td>\n",
       "    </tr>\n",
       "    <tr>\n",
       "      <th>2</th>\n",
       "      <td>positive</td>\n",
       "      <td>With the new production plant the company woul...</td>\n",
       "    </tr>\n",
       "    <tr>\n",
       "      <th>3</th>\n",
       "      <td>positive</td>\n",
       "      <td>According to the company 's updated strategy f...</td>\n",
       "    </tr>\n",
       "    <tr>\n",
       "      <th>4</th>\n",
       "      <td>positive</td>\n",
       "      <td>FINANCING OF ASPOCOMP 'S GROWTH Aspocomp is ag...</td>\n",
       "    </tr>\n",
       "  </tbody>\n",
       "</table>\n",
       "</div>"
      ],
      "text/plain": [
       "  Sentiment                                           Sentence\n",
       "0   neutral  Technopolis plans to develop in stages an area...\n",
       "1  negative  The international electronic industry company ...\n",
       "2  positive  With the new production plant the company woul...\n",
       "3  positive  According to the company 's updated strategy f...\n",
       "4  positive  FINANCING OF ASPOCOMP 'S GROWTH Aspocomp is ag..."
      ]
     },
     "execution_count": 279,
     "metadata": {},
     "output_type": "execute_result"
    }
   ],
   "source": [
    "# Need to rename the columns in the second dataset\n",
    "second_dataset.columns = ['Sentiment', 'Sentence']\n",
    "\n",
    "second_dataset.head()"
   ]
  },
  {
   "cell_type": "code",
   "execution_count": 280,
   "metadata": {},
   "outputs": [
    {
     "data": {
      "text/html": [
       "<div>\n",
       "<style scoped>\n",
       "    .dataframe tbody tr th:only-of-type {\n",
       "        vertical-align: middle;\n",
       "    }\n",
       "\n",
       "    .dataframe tbody tr th {\n",
       "        vertical-align: top;\n",
       "    }\n",
       "\n",
       "    .dataframe thead th {\n",
       "        text-align: right;\n",
       "    }\n",
       "</style>\n",
       "<table border=\"1\" class=\"dataframe\">\n",
       "  <thead>\n",
       "    <tr style=\"text-align: right;\">\n",
       "      <th></th>\n",
       "      <th>Sentiment</th>\n",
       "      <th>Sentence</th>\n",
       "    </tr>\n",
       "  </thead>\n",
       "  <tbody>\n",
       "    <tr>\n",
       "      <th>0</th>\n",
       "      <td>positive</td>\n",
       "      <td>The GeoSolutions technology will leverage Bene...</td>\n",
       "    </tr>\n",
       "    <tr>\n",
       "      <th>1</th>\n",
       "      <td>negative</td>\n",
       "      <td>$ESI on lows, down $1.50 to $2.50 BK a real po...</td>\n",
       "    </tr>\n",
       "    <tr>\n",
       "      <th>2</th>\n",
       "      <td>positive</td>\n",
       "      <td>For the last quarter of 2010 , Componenta 's n...</td>\n",
       "    </tr>\n",
       "    <tr>\n",
       "      <th>3</th>\n",
       "      <td>neutral</td>\n",
       "      <td>According to the Finnish-Russian Chamber of Co...</td>\n",
       "    </tr>\n",
       "    <tr>\n",
       "      <th>4</th>\n",
       "      <td>neutral</td>\n",
       "      <td>The Swedish buyout firm has sold its remaining...</td>\n",
       "    </tr>\n",
       "    <tr>\n",
       "      <th>...</th>\n",
       "      <td>...</td>\n",
       "      <td>...</td>\n",
       "    </tr>\n",
       "    <tr>\n",
       "      <th>10682</th>\n",
       "      <td>negative</td>\n",
       "      <td>LONDON MarketWatch -- Share prices ended lower...</td>\n",
       "    </tr>\n",
       "    <tr>\n",
       "      <th>10683</th>\n",
       "      <td>neutral</td>\n",
       "      <td>Rinkuskiai 's beer sales fell by 6.5 per cent ...</td>\n",
       "    </tr>\n",
       "    <tr>\n",
       "      <th>10684</th>\n",
       "      <td>negative</td>\n",
       "      <td>Operating profit fell to EUR 35.4 mn from EUR ...</td>\n",
       "    </tr>\n",
       "    <tr>\n",
       "      <th>10685</th>\n",
       "      <td>negative</td>\n",
       "      <td>Net sales of the Paper segment decreased to EU...</td>\n",
       "    </tr>\n",
       "    <tr>\n",
       "      <th>10686</th>\n",
       "      <td>negative</td>\n",
       "      <td>Sales in Finland decreased by 10.5 % in Januar...</td>\n",
       "    </tr>\n",
       "  </tbody>\n",
       "</table>\n",
       "<p>10687 rows × 2 columns</p>\n",
       "</div>"
      ],
      "text/plain": [
       "      Sentiment                                           Sentence\n",
       "0      positive  The GeoSolutions technology will leverage Bene...\n",
       "1      negative  $ESI on lows, down $1.50 to $2.50 BK a real po...\n",
       "2      positive  For the last quarter of 2010 , Componenta 's n...\n",
       "3       neutral  According to the Finnish-Russian Chamber of Co...\n",
       "4       neutral  The Swedish buyout firm has sold its remaining...\n",
       "...         ...                                                ...\n",
       "10682  negative  LONDON MarketWatch -- Share prices ended lower...\n",
       "10683   neutral  Rinkuskiai 's beer sales fell by 6.5 per cent ...\n",
       "10684  negative  Operating profit fell to EUR 35.4 mn from EUR ...\n",
       "10685  negative  Net sales of the Paper segment decreased to EU...\n",
       "10686  negative  Sales in Finland decreased by 10.5 % in Januar...\n",
       "\n",
       "[10687 rows x 2 columns]"
      ]
     },
     "execution_count": 280,
     "metadata": {},
     "output_type": "execute_result"
    }
   ],
   "source": [
    "# Need to combine the two datasets into one\n",
    "combined_dataset = pd.concat([first_dataset, second_dataset], ignore_index=True)\n",
    "\n",
    "# Swap the columns around so that sentiment is the first column\n",
    "cols = combined_dataset.columns.tolist()\n",
    "cols = cols[-1:] + cols[:-1]\n",
    "combined_dataset = combined_dataset[cols]\n",
    "\n",
    "combined_dataset"
   ]
  },
  {
   "cell_type": "code",
   "execution_count": 281,
   "metadata": {},
   "outputs": [],
   "source": [
    "# Save the combined dataset\n",
    "combined_dataset.to_csv('combined_dataset.csv', index=False)"
   ]
  },
  {
   "cell_type": "code",
   "execution_count": 282,
   "metadata": {},
   "outputs": [
    {
     "name": "stdout",
     "output_type": "stream",
     "text": [
      "\u001b[31mERROR: Could not find a version that satisfies the requirement Sentenceblob (from versions: none)\u001b[0m\n",
      "\u001b[31mERROR: No matching distribution found for Sentenceblob\u001b[0m\n"
     ]
    }
   ],
   "source": [
    "!pip install Sentenceblob"
   ]
  },
  {
   "cell_type": "code",
   "execution_count": 283,
   "metadata": {},
   "outputs": [],
   "source": [
    "import pandas as pd\n",
    "import numpy as np\n",
    "\n",
    "import matplotlib.pyplot as plt\n",
    "%matplotlib inline\n",
    "import seaborn as sns\n",
    "\n",
    "from sklearn.feature_extraction.text import CountVectorizer\n",
    "\n",
    "from sklearn.neighbors import KNeighborsClassifier\n",
    "from sklearn.tree import DecisionTreeClassifier\n",
    "from sklearn.ensemble import RandomForestClassifier\n",
    "from sklearn.linear_model import LogisticRegression\n",
    "from sklearn.naive_bayes import MultinomialNB\n",
    "from sklearn.pipeline import Pipeline\n",
    "\n",
    "import pickle\n",
    "\n",
    "from sklearn.metrics import accuracy_score, precision_score, recall_score, f1_score, classification_report, confusion_matrix\n",
    "\n",
    "k=KNeighborsClassifier()\n",
    "d=DecisionTreeClassifier()\n",
    "r=RandomForestClassifier()\n",
    "l=LogisticRegression()\n",
    "mb=MultinomialNB()\n",
    "    \n",
    "from sklearn.model_selection import train_test_split\n",
    "\n",
    "from wordcloud import WordCloud, STOPWORDS\n",
    "from PIL import Image\n",
    "\n",
    "from textblob import TextBlob\n",
    "\n",
    "import warnings\n",
    "warnings.filterwarnings('ignore')  "
   ]
  },
  {
   "cell_type": "code",
   "execution_count": 284,
   "metadata": {},
   "outputs": [
    {
     "data": {
      "text/plain": [
       "Sentiment\n",
       "neutral     6008\n",
       "positive    3215\n",
       "negative    1464\n",
       "Name: count, dtype: int64"
      ]
     },
     "execution_count": 284,
     "metadata": {},
     "output_type": "execute_result"
    }
   ],
   "source": [
    "combined_dataset['Sentiment'].value_counts()"
   ]
  },
  {
   "cell_type": "code",
   "execution_count": 285,
   "metadata": {},
   "outputs": [
    {
     "data": {
      "text/html": [
       "<div>\n",
       "<style scoped>\n",
       "    .dataframe tbody tr th:only-of-type {\n",
       "        vertical-align: middle;\n",
       "    }\n",
       "\n",
       "    .dataframe tbody tr th {\n",
       "        vertical-align: top;\n",
       "    }\n",
       "\n",
       "    .dataframe thead th {\n",
       "        text-align: right;\n",
       "    }\n",
       "</style>\n",
       "<table border=\"1\" class=\"dataframe\">\n",
       "  <thead>\n",
       "    <tr style=\"text-align: right;\">\n",
       "      <th></th>\n",
       "      <th>Sentiment</th>\n",
       "      <th>Sentence</th>\n",
       "    </tr>\n",
       "  </thead>\n",
       "  <tbody>\n",
       "    <tr>\n",
       "      <th>0</th>\n",
       "      <td>2</td>\n",
       "      <td>The GeoSolutions technology will leverage Bene...</td>\n",
       "    </tr>\n",
       "    <tr>\n",
       "      <th>1</th>\n",
       "      <td>0</td>\n",
       "      <td>$ESI on lows, down $1.50 to $2.50 BK a real po...</td>\n",
       "    </tr>\n",
       "    <tr>\n",
       "      <th>2</th>\n",
       "      <td>2</td>\n",
       "      <td>For the last quarter of 2010 , Componenta 's n...</td>\n",
       "    </tr>\n",
       "    <tr>\n",
       "      <th>3</th>\n",
       "      <td>1</td>\n",
       "      <td>According to the Finnish-Russian Chamber of Co...</td>\n",
       "    </tr>\n",
       "    <tr>\n",
       "      <th>4</th>\n",
       "      <td>1</td>\n",
       "      <td>The Swedish buyout firm has sold its remaining...</td>\n",
       "    </tr>\n",
       "    <tr>\n",
       "      <th>...</th>\n",
       "      <td>...</td>\n",
       "      <td>...</td>\n",
       "    </tr>\n",
       "    <tr>\n",
       "      <th>10682</th>\n",
       "      <td>0</td>\n",
       "      <td>LONDON MarketWatch -- Share prices ended lower...</td>\n",
       "    </tr>\n",
       "    <tr>\n",
       "      <th>10683</th>\n",
       "      <td>1</td>\n",
       "      <td>Rinkuskiai 's beer sales fell by 6.5 per cent ...</td>\n",
       "    </tr>\n",
       "    <tr>\n",
       "      <th>10684</th>\n",
       "      <td>0</td>\n",
       "      <td>Operating profit fell to EUR 35.4 mn from EUR ...</td>\n",
       "    </tr>\n",
       "    <tr>\n",
       "      <th>10685</th>\n",
       "      <td>0</td>\n",
       "      <td>Net sales of the Paper segment decreased to EU...</td>\n",
       "    </tr>\n",
       "    <tr>\n",
       "      <th>10686</th>\n",
       "      <td>0</td>\n",
       "      <td>Sales in Finland decreased by 10.5 % in Januar...</td>\n",
       "    </tr>\n",
       "  </tbody>\n",
       "</table>\n",
       "<p>10687 rows × 2 columns</p>\n",
       "</div>"
      ],
      "text/plain": [
       "       Sentiment                                           Sentence\n",
       "0              2  The GeoSolutions technology will leverage Bene...\n",
       "1              0  $ESI on lows, down $1.50 to $2.50 BK a real po...\n",
       "2              2  For the last quarter of 2010 , Componenta 's n...\n",
       "3              1  According to the Finnish-Russian Chamber of Co...\n",
       "4              1  The Swedish buyout firm has sold its remaining...\n",
       "...          ...                                                ...\n",
       "10682          0  LONDON MarketWatch -- Share prices ended lower...\n",
       "10683          1  Rinkuskiai 's beer sales fell by 6.5 per cent ...\n",
       "10684          0  Operating profit fell to EUR 35.4 mn from EUR ...\n",
       "10685          0  Net sales of the Paper segment decreased to EU...\n",
       "10686          0  Sales in Finland decreased by 10.5 % in Januar...\n",
       "\n",
       "[10687 rows x 2 columns]"
      ]
     },
     "execution_count": 285,
     "metadata": {},
     "output_type": "execute_result"
    }
   ],
   "source": [
    "from sklearn.preprocessing import LabelEncoder\n",
    "\n",
    "# Encode sentiment labels\n",
    "label_encoder = LabelEncoder()\n",
    "combined_dataset['Sentiment'] = label_encoder.fit_transform(combined_dataset['Sentiment'])\n",
    "\n",
    "combined_dataset"
   ]
  },
  {
   "cell_type": "code",
   "execution_count": 286,
   "metadata": {},
   "outputs": [],
   "source": [
    "combined_dataset[\"Sentiment\"].value_counts()\n",
    "\n",
    "df = combined_dataset"
   ]
  },
  {
   "cell_type": "code",
   "execution_count": 287,
   "metadata": {},
   "outputs": [],
   "source": [
    "def preprocess_data(input_df):\n",
    "    result_df = input_df.copy()\n",
    "    result_df[\"Sentence\"]=result_df[\"Sentence\"].str.lower() #We convert our Sentences to lowercase.\n",
    "    result_df[\"Sentence\"]=result_df[\"Sentence\"].str.replace(\"[^\\w\\s]\",\"\") #We remove punctuation marks from our Sentences.\n",
    "    result_df[\"Sentence\"]=result_df[\"Sentence\"].str.replace(\"\\d+\",\"\") #We are removing numbers from our Sentences.\n",
    "    result_df[\"Sentence\"]=result_df[\"Sentence\"].str.replace(\"\\n\",\"\").replace(\"\\r\",\"\") #We remove spaces in our Sentences.\n",
    "    result_df_Sentiment=result_df[result_df['Sentiment']==\"Sentiment\"]\n",
    "    result_df_positive=result_df[result_df['Sentiment']==\"positive\"]\n",
    "    result_df_negative=result_df[result_df['Sentiment']==\"negative\"]\n",
    "    # df[\"Sentiment\"]=df[\"Sentiment\"].map({\"positive\":1,\"negative\":0,\"Sentiment\":2})\n",
    "    # df['Sentiment']=df['Sentiment'].astype(int)\n",
    "    df1=result_df[df['Sentiment']!=1]\n",
    "    #We divide it into positive and negative.\n",
    "    # Change all of the sentiment valuea that are 2 to 1\n",
    "    df1[\"Sentiment\"]=df1[\"Sentiment\"].replace(2,1)\n",
    "    \n",
    "    return df1"
   ]
  },
  {
   "cell_type": "code",
   "execution_count": 288,
   "metadata": {},
   "outputs": [
    {
     "data": {
      "text/html": [
       "<div>\n",
       "<style scoped>\n",
       "    .dataframe tbody tr th:only-of-type {\n",
       "        vertical-align: middle;\n",
       "    }\n",
       "\n",
       "    .dataframe tbody tr th {\n",
       "        vertical-align: top;\n",
       "    }\n",
       "\n",
       "    .dataframe thead th {\n",
       "        text-align: right;\n",
       "    }\n",
       "</style>\n",
       "<table border=\"1\" class=\"dataframe\">\n",
       "  <thead>\n",
       "    <tr style=\"text-align: right;\">\n",
       "      <th></th>\n",
       "      <th>Sentiment</th>\n",
       "      <th>Sentence</th>\n",
       "    </tr>\n",
       "  </thead>\n",
       "  <tbody>\n",
       "    <tr>\n",
       "      <th>0</th>\n",
       "      <td>1</td>\n",
       "      <td>the geosolutions technology will leverage bene...</td>\n",
       "    </tr>\n",
       "    <tr>\n",
       "      <th>1</th>\n",
       "      <td>0</td>\n",
       "      <td>$esi on lows, down $1.50 to $2.50 bk a real po...</td>\n",
       "    </tr>\n",
       "    <tr>\n",
       "      <th>2</th>\n",
       "      <td>1</td>\n",
       "      <td>for the last quarter of 2010 , componenta 's n...</td>\n",
       "    </tr>\n",
       "    <tr>\n",
       "      <th>5</th>\n",
       "      <td>1</td>\n",
       "      <td>$spy wouldn't be surprised to see a green close</td>\n",
       "    </tr>\n",
       "    <tr>\n",
       "      <th>6</th>\n",
       "      <td>0</td>\n",
       "      <td>shell's $70 billion bg deal meets shareholder ...</td>\n",
       "    </tr>\n",
       "    <tr>\n",
       "      <th>...</th>\n",
       "      <td>...</td>\n",
       "      <td>...</td>\n",
       "    </tr>\n",
       "    <tr>\n",
       "      <th>10681</th>\n",
       "      <td>0</td>\n",
       "      <td>helsinki thomson financial - shares in cargote...</td>\n",
       "    </tr>\n",
       "    <tr>\n",
       "      <th>10682</th>\n",
       "      <td>0</td>\n",
       "      <td>london marketwatch -- share prices ended lower...</td>\n",
       "    </tr>\n",
       "    <tr>\n",
       "      <th>10684</th>\n",
       "      <td>0</td>\n",
       "      <td>operating profit fell to eur 35.4 mn from eur ...</td>\n",
       "    </tr>\n",
       "    <tr>\n",
       "      <th>10685</th>\n",
       "      <td>0</td>\n",
       "      <td>net sales of the paper segment decreased to eu...</td>\n",
       "    </tr>\n",
       "    <tr>\n",
       "      <th>10686</th>\n",
       "      <td>0</td>\n",
       "      <td>sales in finland decreased by 10.5 % in januar...</td>\n",
       "    </tr>\n",
       "  </tbody>\n",
       "</table>\n",
       "<p>4679 rows × 2 columns</p>\n",
       "</div>"
      ],
      "text/plain": [
       "       Sentiment                                           Sentence\n",
       "0              1  the geosolutions technology will leverage bene...\n",
       "1              0  $esi on lows, down $1.50 to $2.50 bk a real po...\n",
       "2              1  for the last quarter of 2010 , componenta 's n...\n",
       "5              1    $spy wouldn't be surprised to see a green close\n",
       "6              0  shell's $70 billion bg deal meets shareholder ...\n",
       "...          ...                                                ...\n",
       "10681          0  helsinki thomson financial - shares in cargote...\n",
       "10682          0  london marketwatch -- share prices ended lower...\n",
       "10684          0  operating profit fell to eur 35.4 mn from eur ...\n",
       "10685          0  net sales of the paper segment decreased to eu...\n",
       "10686          0  sales in finland decreased by 10.5 % in januar...\n",
       "\n",
       "[4679 rows x 2 columns]"
      ]
     },
     "execution_count": 288,
     "metadata": {},
     "output_type": "execute_result"
    }
   ],
   "source": [
    "df1 = preprocess_data(df)\n",
    "df1"
   ]
  },
  {
   "cell_type": "code",
   "execution_count": 292,
   "metadata": {},
   "outputs": [],
   "source": [
    "# vect=CountVectorizer(lowercase=True,stop_words=\"english\")\n",
    "x=df1.Sentence\n",
    "y=df1.Sentiment\n",
    "# x=CountVectorizer(lowercase=True,stop_words=\"english\").fit_transform(x)"
   ]
  },
  {
   "cell_type": "code",
   "execution_count": 295,
   "metadata": {},
   "outputs": [],
   "source": [
    "def sentiment_classification_funct(x, y):\n",
    "    x_train, x_test, y_train, y_test = train_test_split(x, y, test_size=0.2, random_state=60)\n",
    "\n",
    "\n",
    "    # Algorithms to be used in pipelines\n",
    "    algos = [KNeighborsClassifier(), DecisionTreeClassifier(), RandomForestClassifier(), LogisticRegression(), MultinomialNB()]\n",
    "    algo_names = ['KNeighborsClassifier', 'DecisionTreeClassifier', 'RandomForestClassifier', 'LogisticRegression', 'MultinomialNB']\n",
    "\n",
    "    accuracy_scored = []\n",
    "    precision_scored = []\n",
    "    recall_scored = []\n",
    "    f1_scored = []\n",
    "\n",
    "    # Create a directory for models if it doesn't exist\n",
    "    models_directory = \"models\"\n",
    "    if not os.path.exists(models_directory):\n",
    "        os.makedirs(models_directory)\n",
    "\n",
    "    for algo, name in zip(algos, algo_names):\n",
    "        # Create a pipeline\n",
    "        pipeline = Pipeline([\n",
    "            ('vect', CountVectorizer(lowercase=True, stop_words='english')),\n",
    "            ('clf', algo)\n",
    "        ])\n",
    "\n",
    "        # Fit the pipeline\n",
    "        pipeline.fit(x_train, y_train)\n",
    "        y_pred = pipeline.predict(x_test)\n",
    "\n",
    "        # Evaluation Metrics\n",
    "        accuracy_scored.append(accuracy_score(y_test, y_pred))\n",
    "        precision_scored.append(precision_score(y_test, y_pred))\n",
    "        recall_scored.append(recall_score(y_test, y_pred))\n",
    "        f1_scored.append(f1_score(y_test, y_pred))\n",
    "\n",
    "        # Print classification report\n",
    "        print(f\"Classification Report for {name}:\")\n",
    "        print(classification_report(y_test, y_pred))\n",
    "\n",
    "        # Confusion Matrix\n",
    "        cf_matrix = confusion_matrix(y_test, y_pred)\n",
    "        categories = ['Negative', 'Positive']\n",
    "        sns.heatmap(cf_matrix, annot=True, cmap='Blues', fmt='g', \n",
    "                    xticklabels=categories, yticklabels=categories)\n",
    "        plt.title(f\"Confusion Matrix for {name}\")\n",
    "        plt.xlabel(\"Predicted values\")\n",
    "        plt.ylabel(\"Actual values\")\n",
    "        plt.show()\n",
    "\n",
    "        # Save the pipeline\n",
    "        with open(os.path.join(models_directory, name + '_pipeline.pkl'), 'wb') as file:\n",
    "            pickle.dump(pipeline, file)\n",
    "\n",
    "    result = pd.DataFrame(columns=['f1_score', 'recall_score', 'precision_score', 'accuracy_score'], index=algo_names)\n",
    "    result.f1_score = f1_scored\n",
    "    result.recall_score = recall_scored\n",
    "    result.precision_score = precision_scored\n",
    "    result.accuracy_score = accuracy_scored\n",
    "    return result.sort_values('f1_score', ascending=False)"
   ]
  },
  {
   "cell_type": "code",
   "execution_count": 296,
   "metadata": {},
   "outputs": [
    {
     "data": {
      "text/plain": [
       "0        the geosolutions technology will leverage bene...\n",
       "1        $esi on lows, down $1.50 to $2.50 bk a real po...\n",
       "2        for the last quarter of 2010 , componenta 's n...\n",
       "5          $spy wouldn't be surprised to see a green close\n",
       "6        shell's $70 billion bg deal meets shareholder ...\n",
       "                               ...                        \n",
       "10681    helsinki thomson financial - shares in cargote...\n",
       "10682    london marketwatch -- share prices ended lower...\n",
       "10684    operating profit fell to eur 35.4 mn from eur ...\n",
       "10685    net sales of the paper segment decreased to eu...\n",
       "10686    sales in finland decreased by 10.5 % in januar...\n",
       "Name: Sentence, Length: 4679, dtype: object"
      ]
     },
     "execution_count": 296,
     "metadata": {},
     "output_type": "execute_result"
    }
   ],
   "source": [
    "x"
   ]
  },
  {
   "cell_type": "code",
   "execution_count": 297,
   "metadata": {},
   "outputs": [
    {
     "name": "stdout",
     "output_type": "stream",
     "text": [
      "Classification Report for KNeighborsClassifier:\n",
      "              precision    recall  f1-score   support\n",
      "\n",
      "           0       0.62      0.41      0.49       287\n",
      "           1       0.77      0.89      0.83       649\n",
      "\n",
      "    accuracy                           0.74       936\n",
      "   macro avg       0.69      0.65      0.66       936\n",
      "weighted avg       0.72      0.74      0.72       936\n",
      "\n"
     ]
    },
    {
     "data": {
      "image/png": "[encoded data removed]",
      "text/plain": [
       "<Figure size 640x480 with 2 Axes>"
      ]
     },
     "metadata": {},
     "output_type": "display_data"
    },
    {
     "name": "stdout",
     "output_type": "stream",
     "text": [
      "Classification Report for DecisionTreeClassifier:\n",
      "              precision    recall  f1-score   support\n",
      "\n",
      "           0       0.80      0.80      0.80       287\n",
      "           1       0.91      0.91      0.91       649\n",
      "\n",
      "    accuracy                           0.88       936\n",
      "   macro avg       0.86      0.86      0.86       936\n",
      "weighted avg       0.88      0.88      0.88       936\n",
      "\n"
     ]
    },
    {
     "data": {
      "image/png": "[encoded data removed]",
      "text/plain": [
       "<Figure size 640x480 with 2 Axes>"
      ]
     },
     "metadata": {},
     "output_type": "display_data"
    },
    {
     "name": "stdout",
     "output_type": "stream",
     "text": [
      "Classification Report for RandomForestClassifier:\n",
      "              precision    recall  f1-score   support\n",
      "\n",
      "           0       0.92      0.75      0.83       287\n",
      "           1       0.90      0.97      0.93       649\n",
      "\n",
      "    accuracy                           0.90       936\n",
      "   macro avg       0.91      0.86      0.88       936\n",
      "weighted avg       0.90      0.90      0.90       936\n",
      "\n"
     ]
    },
    {
     "data": {
      "image/png": "[encoded data removed]",
      "text/plain": [
       "<Figure size 640x480 with 2 Axes>"
      ]
     },
     "metadata": {},
     "output_type": "display_data"
    },
    {
     "name": "stdout",
     "output_type": "stream",
     "text": [
      "Classification Report for LogisticRegression:\n",
      "              precision    recall  f1-score   support\n",
      "\n",
      "           0       0.88      0.78      0.83       287\n",
      "           1       0.91      0.95      0.93       649\n",
      "\n",
      "    accuracy                           0.90       936\n",
      "   macro avg       0.89      0.87      0.88       936\n",
      "weighted avg       0.90      0.90      0.90       936\n",
      "\n"
     ]
    },
    {
     "data": {
      "image/png": "[encoded data removed]",
      "text/plain": [
       "<Figure size 640x480 with 2 Axes>"
      ]
     },
     "metadata": {},
     "output_type": "display_data"
    },
    {
     "name": "stdout",
     "output_type": "stream",
     "text": [
      "Classification Report for MultinomialNB:\n",
      "              precision    recall  f1-score   support\n",
      "\n",
      "           0       0.72      0.77      0.74       287\n",
      "           1       0.89      0.87      0.88       649\n",
      "\n",
      "    accuracy                           0.84       936\n",
      "   macro avg       0.81      0.82      0.81       936\n",
      "weighted avg       0.84      0.84      0.84       936\n",
      "\n"
     ]
    },
    {
     "data": {
      "image/png": "[encoded data removed]",
      "text/plain": [
       "<Figure size 640x480 with 2 Axes>"
      ]
     },
     "metadata": {},
     "output_type": "display_data"
    }
   ],
   "source": [
    "results = sentiment_classification_funct(x, y)"
   ]
  },
  {
   "cell_type": "code",
   "execution_count": 298,
   "metadata": {},
   "outputs": [
    {
     "data": {
      "text/html": [
       "<div>\n",
       "<style scoped>\n",
       "    .dataframe tbody tr th:only-of-type {\n",
       "        vertical-align: middle;\n",
       "    }\n",
       "\n",
       "    .dataframe tbody tr th {\n",
       "        vertical-align: top;\n",
       "    }\n",
       "\n",
       "    .dataframe thead th {\n",
       "        text-align: right;\n",
       "    }\n",
       "</style>\n",
       "<table border=\"1\" class=\"dataframe\">\n",
       "  <thead>\n",
       "    <tr style=\"text-align: right;\">\n",
       "      <th></th>\n",
       "      <th>f1_score</th>\n",
       "      <th>recall_score</th>\n",
       "      <th>precision_score</th>\n",
       "      <th>accuracy_score</th>\n",
       "    </tr>\n",
       "  </thead>\n",
       "  <tbody>\n",
       "    <tr>\n",
       "      <th>RandomForestClassifier</th>\n",
       "      <td>0.932543</td>\n",
       "      <td>0.969183</td>\n",
       "      <td>0.898571</td>\n",
       "      <td>0.902778</td>\n",
       "    </tr>\n",
       "    <tr>\n",
       "      <th>LogisticRegression</th>\n",
       "      <td>0.928518</td>\n",
       "      <td>0.950693</td>\n",
       "      <td>0.907353</td>\n",
       "      <td>0.898504</td>\n",
       "    </tr>\n",
       "    <tr>\n",
       "      <th>DecisionTreeClassifier</th>\n",
       "      <td>0.913713</td>\n",
       "      <td>0.913713</td>\n",
       "      <td>0.913713</td>\n",
       "      <td>0.880342</td>\n",
       "    </tr>\n",
       "    <tr>\n",
       "      <th>MultinomialNB</th>\n",
       "      <td>0.882123</td>\n",
       "      <td>0.870570</td>\n",
       "      <td>0.893987</td>\n",
       "      <td>0.838675</td>\n",
       "    </tr>\n",
       "    <tr>\n",
       "      <th>KNeighborsClassifier</th>\n",
       "      <td>0.825806</td>\n",
       "      <td>0.887519</td>\n",
       "      <td>0.772118</td>\n",
       "      <td>0.740385</td>\n",
       "    </tr>\n",
       "  </tbody>\n",
       "</table>\n",
       "</div>"
      ],
      "text/plain": [
       "                        f1_score  recall_score  precision_score  \\\n",
       "RandomForestClassifier  0.932543      0.969183         0.898571   \n",
       "LogisticRegression      0.928518      0.950693         0.907353   \n",
       "DecisionTreeClassifier  0.913713      0.913713         0.913713   \n",
       "MultinomialNB           0.882123      0.870570         0.893987   \n",
       "KNeighborsClassifier    0.825806      0.887519         0.772118   \n",
       "\n",
       "                        accuracy_score  \n",
       "RandomForestClassifier        0.902778  \n",
       "LogisticRegression            0.898504  \n",
       "DecisionTreeClassifier        0.880342  \n",
       "MultinomialNB                 0.838675  \n",
       "KNeighborsClassifier          0.740385  "
      ]
     },
     "execution_count": 298,
     "metadata": {},
     "output_type": "execute_result"
    }
   ],
   "source": [
    "results"
   ]
  }
 ],
 "metadata": {
  "kernelspec": {
   "display_name": "Python 3 (ipykernel)",
   "language": "python",
   "name": "python3"
  },
  "language_info": {
   "codemirror_mode": {
    "name": "ipython",
    "version": 3
   },
   "file_extension": ".py",
   "mimetype": "text/x-python",
   "name": "python",
   "nbconvert_exporter": "python",
   "pygments_lexer": "ipython3",
   "version": "3.8.10"
  }
 },
 "nbformat": 4,
 "nbformat_minor": 5
}
